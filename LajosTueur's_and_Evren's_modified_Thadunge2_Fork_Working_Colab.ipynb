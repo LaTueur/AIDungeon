{
  "nbformat": 4,
  "nbformat_minor": 0,
  "metadata": {
    "colab": {
      "name": "LajosTueur's and Evren's modified Thadunge2 Fork Working Colab.ipynb",
      "provenance": [],
      "collapsed_sections": [
        "Xr4TdbnOHGx4",
        "ajYetCVZbLHL"
      ],
      "toc_visible": true,
      "machine_shape": "hm",
      "include_colab_link": true
    },
    "kernelspec": {
      "name": "python3",
      "display_name": "Python 3"
    },
    "accelerator": "GPU"
  },
  "cells": [
    {
      "cell_type": "markdown",
      "metadata": {
        "id": "view-in-github",
        "colab_type": "text"
      },
      "source": [
        "<a href=\"https://colab.research.google.com/github/LaTueur/AIDungeon/blob/master/LajosTueur's_and_Evren's_modified_Thadunge2_Fork_Working_Colab.ipynb\" target=\"_parent\"><img src=\"https://colab.research.google.com/assets/colab-badge.svg\" alt=\"Open In Colab\"/></a>"
      ]
    },
    {
      "cell_type": "markdown",
      "metadata": {
        "id": "7dRi_BDWErNf",
        "colab_type": "text"
      },
      "source": [
        "# AI Dungeon 2 Thadunge2 Fork Working Colab (modified by LajosTueur and Evren)\n",
        "<hr>"
      ]
    },
    {
      "cell_type": "markdown",
      "metadata": {
        "id": "SLhuTInlNJ8P",
        "colab_type": "text"
      },
      "source": [
        "### LajosTueur and Evren made several improvement to the official notebook. Check below for a link to what appears to be the official Colab for this fork.\n",
        "\n",
        "Click [here](#scrollTo=ajYetCVZbLHL) to jump to Evren's Long-Term Story Guide.\n",
        "\n",
        "# **IMPORTANT - How to use properly use this:**\n",
        "\n",
        "\n",
        "1. Follow steps 1-2 of the \"How to install and play\" section below this one. This means save a copy in your Google Drive by clicking File > Save a copy in Drive... This will allow you to have edit and save permissions as well as your own copy. You can always return to this link to grab a fresh copy if you need it. Be sure to delete the AIDungeon folder from your Google Drive if you are trying to do a fresh install.\n",
        "2. Follow the rest of the instructions.\n",
        "3. The Colab link that seems to be the official one for this fork is here. It has more organized installation instructions, but still uses the mv command. If you have issues, replace mv in Cell 3 with cp -r. As of Dec. 18, 2019, I was unable to get the game to install and run properly on this Colab, but here it is anyway: https://colab.research.google.com/github/Kornilov1/Thadunge2-Fork-Working-Colab/blob/Visuals/Thadunge2_Fork_Working_Colab.ipynb#scrollTo=4MeHmMf_CUAZ\n",
        "4. See my [Evren's Long-Term Story Guide](#scrollTo=ajYetCVZbLHL) section for more on how I use this fork (to great effect!).\n",
        "\n",
        "### Please follow the rest of the instructions as originally given. **I did not author them**, but I tested this on a brand new Google account and had no issues with the latest version of the fork as of Dec. 18, 2019. If you follow this page and get your game working, you are safe to keep playing that version indefinitely as long as you don't delete your AIDungeon folder in Google Drive or run Cells 2 and 3 again.\n",
        "\n",
        "<hr>\n",
        "\n",
        "### <a href=\"https://twitter.com/nickwalton00?ref_src=twsrc%5Etfw\" class=\"twitter-follow-button\" data-show-count=\"false\">Follow @nickwalton00</a> on Twitter for updates on the original project.\n",
        "\n",
        "\n",
        "## About\n",
        "AI Dungeon 2 is a completely AI generated text adventure built with OpenAI's largest GPT-2 model. It's a first of it's kind game that allows you to enter and will react to any action you can imagine.\n",
        "\n",
        "This is a mod of the base game made entirely by the collective efforts of Anons, so you know what to expect from this.\n",
        "\n",
        "## Official Links\n",
        "* While you wait you can [read adventures others have had](https://aidungeon.io/).\n",
        "* [Read more](https://pcc.cs.byu.edu/2019/11/21/ai-dungeon-2-creating-infinitely-generated-text-adventures-with-deep-learning-language-models/) about how AI Dungeon 2 is made.\n",
        "\n",
        "* If you have any questions or issues feel free to contact the author on Twitter https://twitter.com/nickwalton00.\n",
        "* If you like playing then please consider [supporting](https://www.patreon.com/join/AIDungeon/) the author."
      ]
    },
    {
      "cell_type": "markdown",
      "metadata": {
        "id": "xn0bEX3R8IMC",
        "colab_type": "text"
      },
      "source": [
        "# How to install and play: detailed instructions.\n",
        "---\n",
        "\n"
      ]
    },
    {
      "cell_type": "markdown",
      "metadata": {
        "id": "w9DIAxtRMlAV",
        "colab_type": "text"
      },
      "source": [
        "1. First make sure you have a Google Drive account and that you are signed up.\n",
        "2. On the top left: Click \"File\"-> \"Save a a copy in Drive\". A new tab will open, close the one you were on before.\n",
        "3. Click \"Tools\"-> \"Settings...\" -> \"Theme\" -> \"Dark\" (optional but recommended).\n",
        "4. Delete your AIdungeon folder in your Google Drive if it's already in it.\n",
        " - If you have already downloaded the \"model_v5\" folder through torrent, I advise against deleting it, it might come handy in the future. If anyone is curious **[here is the torrent](https://github.com/nickwalton/AIDungeon/files/3935881/model_v5.torrent.zip)**.\n",
        "5. (Optional) Run the fifth cell if you want more RAM, the allocated GPU will crash (takes about 80-85 seconds) and Google Colab will offer you an option to get more RAM (max is 25GB), if you have already max RAM you can skip this.\n",
        "IF ENOUGH PEOPLE USE THIS OPTION THEN YOU COULD GET A HIGH-RAM SERVER AUTOMATICALLY, IN THIS CASE JUST RECONNECT NORMALLY AND IGNORE THIS STEP.\n",
        "6. Run the first cell, it will mount your Google Drive. It will ask for authorization so follow the link given and log in, then paste the code back in the box that showed up under the code and press enter.\n",
        "7. Run the second cell, it will download the game files to /content/gdrive/My Drive/AIDungeon.\n",
        " - If you wish to use another Github fork (meaning a different version of the game) for whatever reason, just change the link on the last part of the first line. Unmodded AI Dungeon 2 is: https://github.com/AIDungeon/AIDungeon/\n",
        " - If this cell gives you an error, try replacing the first part of the first cell with the following parameters to install the missing dependencies (it might be possible that future updates to the GitHub fork require more dependencies), run the cell, and it \"should\" solve the problem:\n",
        "        + !pip install regex\n",
        "        + !pip install profanityfilter\n",
        "        + !pip install playsound\n",
        "        + !pip install func_timeout\n",
        "        + !pip install tracery\n",
        "        + !pip install -r requirements.txt\n",
        "8. Now AIdungeon is correctly installed in your Google Drive, you just need to run the fourth cell to play, but DO NOT REPEAT THE PREVIOUS STEPS\n",
        " - Make sure each command is finished, some of them take a while to process.\n",
        "10. When running the game again (i.e.: after you closed the tab) just:\n",
        " - Run the first cell. You might need to authorize it again.\n",
        "        + If this cell gives you an error, try clicking \"Runtime\"-> \"Restart runtime\" on the top of the screen.\n",
        " - Run the fourth cell and play the game.\n",
        "11. To update you need to copy and past the third line from the original notebook each time before running it.\n",
        "  - Delete the third line and remove the # symbol from the fifth to get the newest version instead of the last known stable one.\n",
        " - BEWARE, before updating your game, go to your Google Drive account and rename the \"AIDungeon\" folder to \"AIDungeon-Old\". Made sure the current update is STABLE, before actually overwriting your files. In case the update is buggy, you just need to delete the updated \"AIDungeon\" folder, and rename back the \"AIDungeon-Old\" folder to \"AIDungeon\" to revert back the to the stable version."
      ]
    },
    {
      "cell_type": "markdown",
      "metadata": {
        "id": "LkxkzJZQM4_w",
        "colab_type": "text"
      },
      "source": [
        "# Cells: where the magic happens.\n",
        "---"
      ]
    },
    {
      "cell_type": "markdown",
      "metadata": {
        "id": "RBdGm724G-0d",
        "colab_type": "text"
      },
      "source": [
        "### Cell 1: run every time you have to reconnect.\n",
        "---"
      ]
    },
    {
      "cell_type": "markdown",
      "metadata": {
        "id": "dLcB4p8rRqqt",
        "colab_type": "text"
      },
      "source": [
        "This step requires user input. Watch for a link to appear and a box asking for authentication."
      ]
    },
    {
      "cell_type": "code",
      "metadata": {
        "id": "meQ2T-4uxFDN",
        "colab_type": "code",
        "colab": {}
      },
      "source": [
        "from google.colab import drive\n",
        "drive.mount('/content/gdrive', force_remount=True)\n",
        "root_dir = \"/content/gdrive/My Drive/\"\n",
        "!pip install regex\n",
        "!pip install profanityfilter\n",
        "!pip install playsound\n",
        "!pip install func_timeout\n",
        "!pip install tracery\n",
        "!pip install cryptography\n",
        "\n",
        "#Currently unused\n",
        "#import os, sys\n",
        "#nb_path = '/content/notebooks'\n",
        "#os.symlink('/content/gdrive/My Drive/Colab Notebooks', nb_path)\n",
        "#sys.path.insert(0,nb_path)\n",
        "\n",
        "%tensorflow_version 1.x"
      ],
      "execution_count": 0,
      "outputs": []
    },
    {
      "cell_type": "markdown",
      "metadata": {
        "id": "Xr4TdbnOHGx4",
        "colab_type": "text"
      },
      "source": [
        "### Cell 2: run only on first install\n",
        "---"
      ]
    },
    {
      "cell_type": "markdown",
      "metadata": {
        "id": "akhD4XJoR2Mi",
        "colab_type": "text"
      },
      "source": [
        "Before running this cell, delete the AIDungeon folder on your drive."
      ]
    },
    {
      "cell_type": "code",
      "metadata": {
        "colab_type": "code",
        "id": "4MeHmMf_CUAZ",
        "outputId": "a05e008b-824b-42ae-9b22-467fe82c4545",
        "colab": {
          "base_uri": "https://localhost:8080/",
          "height": 34
        }
      },
      "source": [
        "%cd /content/gdrive/My\\ Drive\n",
        "!git clone --branch master https://github.com/thadunge2/AIDungeon\n",
        "%cd AIDungeon\n",
        "\n",
        "import os\n",
        "old_file = open(\"./install.sh\").read()\n",
        "old_file = old_file.replace(\"\\tpip_install\",\"\")\n",
        "new_file = open(\"./install.sh\",\"w\")\n",
        "new_file.write(old_file)\n",
        "new_file.close()\n",
        "!chmod 777 install.sh \n",
        "!sed -i -e 's/\\r$//' install.sh\n",
        "!./install.sh\n",
        "\n",
        "!apt install python3-libtorrent\n",
        "if not os.path.exists(\"generator/gpt2/models/vocab.bpe\"):\n",
        "  import libtorrent as lt\n",
        "  ses = lt.session()\n",
        "  ses.listen_on(6881, 6891)\n",
        "  downloads = []\n",
        "  params = {\"save_path\": \"/content/gdrive/My Drive/AIDungeon/generator/gpt2/models\"}\n",
        "  downloads.append(lt.add_magnet_uri(ses, \"magnet:?xt=urn:btih:b343b83b35bff774dab13e0281ce13b3daf37d3e&dn=model_v5\", params))\n",
        "  import time\n",
        "  from IPython.display import display\n",
        "  import ipywidgets as widgets\n",
        "  state_str = [\n",
        "      \"queued\",\n",
        "      \"checking\",\n",
        "      \"downloading metadata\",\n",
        "      \"downloading\",\n",
        "      \"finished\",\n",
        "      \"seeding\",\n",
        "      \"allocating\",\n",
        "      \"checking fastresume\",\n",
        "  ]\n",
        "  layout = widgets.Layout(width=\"auto\")\n",
        "  style = {\"description_width\": \"initial\"}\n",
        "  download_bars = [\n",
        "      widgets.FloatSlider(\n",
        "          step=0.01, disabled=True, layout=layout, style=style\n",
        "      )\n",
        "      for _ in downloads\n",
        "  ]\n",
        "  display(*download_bars)\n",
        "  while downloads:\n",
        "      next_shift = 0\n",
        "      for index, download in enumerate(downloads[:]):\n",
        "          bar = download_bars[index + next_shift]\n",
        "          if not download.is_seed():\n",
        "              s = download.status()\n",
        "\n",
        "              bar.description = \" \".join(\n",
        "                  [\n",
        "                      download.name(),\n",
        "                      str(s.download_rate / 1000),\n",
        "                      \"kB/s\",\n",
        "                      state_str[s.state],\n",
        "                  ]\n",
        "              )\n",
        "              bar.value = s.progress * 100\n",
        "          else:\n",
        "              next_shift -= 1\n",
        "              ses.remove_torrent(download)\n",
        "              downloads.remove(download)\n",
        "              bar.close() # Seems to be not working in Colab (see https://github.com/googlecolab/colabtools/issues/726#issue-486731758)\n",
        "              download_bars.remove(bar)\n",
        "              print(download.name(), \"complete\")\n",
        "      time.sleep(1)\n",
        "\n",
        "#Currently unused\n",
        "#old_file = open(\"./requirements.txt\").read()\n",
        "#old_file = old_file.replace(\"tensorflow==1.15\",\"\").replace(\"numpy\",\"\")\n",
        "#new_file = open(\"./requirements.txt\",\"w\")\n",
        "#new_file.write(old_file)\n",
        "#new_file.close()\n",
        "#!pip install --target=$nb_path -r ./requirements.txt --upgrade-strategy only-if-needed\n",
        "from IPython.display import clear_output \n",
        "clear_output()\n",
        "print(\"Download Complete!\")"
      ],
      "execution_count": 0,
      "outputs": [
        {
          "output_type": "stream",
          "text": [
            "Download Complete!\n"
          ],
          "name": "stdout"
        }
      ]
    },
    {
      "cell_type": "markdown",
      "metadata": {
        "colab_type": "text",
        "id": "gO5mwqdg9qQw"
      },
      "source": [
        "### Cell 3: run only if you wish to get the last known stable version.\n",
        "---"
      ]
    },
    {
      "cell_type": "markdown",
      "metadata": {
        "id": "sxxKTFMsHq92",
        "colab_type": "text"
      },
      "source": [
        "This will get you the last known stable version.\n",
        "You need to copy and past the third line from the original notebook each time before running it."
      ]
    },
    {
      "cell_type": "code",
      "metadata": {
        "colab_type": "code",
        "id": "6y7zF5AdCTSz",
        "colab": {}
      },
      "source": [
        "%cd /content/gdrive/My\\ Drive/AIDungeon\n",
        "# Copy and past from the original notebook before running the next line\n",
        "!git reset --hard \"c198371c34d914e9d996559ef850c87a76f572c4\"\n",
        "\n",
        "#Currently unused\n",
        "#old_file = open(\"./requirements.txt\").read()\n",
        "#old_file = old_file.replace(\"tensorflow==1.15\",\"\").replace(\"numpy\",\"\")\n",
        "#new_file = open(\"./requirements.txt\",\"w\")\n",
        "#new_file.write(old_file)\n",
        "#new_file.close()\n",
        "#!pip install --target=$nb_path -r ./requirements.txt --upgrade-strategy only-if-needed"
      ],
      "execution_count": 0,
      "outputs": []
    },
    {
      "cell_type": "markdown",
      "metadata": {
        "id": "3kENXL17RkPd",
        "colab_type": "text"
      },
      "source": [
        "### Cell 4: run only if you wish to update the fork.\n",
        "---"
      ]
    },
    {
      "cell_type": "markdown",
      "metadata": {
        "id": "bg8TqYK0-rTW",
        "colab_type": "text"
      },
      "source": [
        "This will get you the last github version. If you get errors, just switch back to the last known stable version."
      ]
    },
    {
      "cell_type": "code",
      "metadata": {
        "id": "lpWO6CYo-egh",
        "colab_type": "code",
        "colab": {}
      },
      "source": [
        "%cd /content/gdrive/My\\ Drive/AIDungeon\n",
        "!git pull"
      ],
      "execution_count": 0,
      "outputs": []
    },
    {
      "cell_type": "markdown",
      "metadata": {
        "id": "9pP4zSxdHtoR",
        "colab_type": "text"
      },
      "source": [
        "### Cell 5: play the game.\n",
        "---"
      ]
    },
    {
      "cell_type": "markdown",
      "metadata": {
        "colab_type": "text",
        "id": "ECoBRCiNFyzn"
      },
      "source": [
        "**If you get encoder.json errors or the game simply will not run after following all steps,** trying with a completely fresh install may just work. Click Runtime > Factory reset runtime, delete the AIDungeon folder in your Google Drive, and just start over from the beginning."
      ]
    },
    {
      "cell_type": "code",
      "metadata": {
        "id": "YjArwbWh6XwN",
        "colab_type": "code",
        "colab": {}
      },
      "source": [
        "%cd /content/gdrive/My\\ Drive/AIDungeon\n",
        "from IPython.display import Javascript\n",
        "display(Javascript('''google.colab.output.setIframeHeight(0, true, {maxHeight: 5000})'''))\n",
        "!python play.py"
      ],
      "execution_count": 0,
      "outputs": []
    },
    {
      "cell_type": "markdown",
      "metadata": {
        "id": "s8JwIpZhqxJa",
        "colab_type": "text"
      },
      "source": [
        "###Cell 6 (optional): upgrade RAM.\n",
        "---"
      ]
    },
    {
      "cell_type": "markdown",
      "metadata": {
        "id": "Bhmys6sIIclj",
        "colab_type": "text"
      },
      "source": [
        "Evren's note: After running a cell or pressing Connect, check the RAM you are allocated by hovering over the bars in the top right corner. If you already have 25+, ignore this. If you don't, I suggest running this cell before any others. You will then have to start over from Cell 1. If you've already run Cells 2 and 3 successfully, you do not need to run them again. Just run Cells 1 and 4 to play.\n",
        "\n",
        "**This cell WILL NOT RUN if a cell above it is still processing.** Stop them all if you need this to run. You have to restart from Cell 1 anyway.\n",
        "\n",
        "---\n",
        "\n",
        "If you get an OOM (out of memory error, random crashes) you might want to increase the available RAM. To do this, run the code below. Wait until it crashes and a little message pops up (takes about 80-85 seconds) asking if you'd like to increase the available memory. Say yes and run the game."
      ]
    },
    {
      "cell_type": "code",
      "metadata": {
        "id": "Zb8MBT52sIHn",
        "colab_type": "code",
        "colab": {}
      },
      "source": [
        "thislist = [\"1\"]\n",
        "while 1:\n",
        "    thislist.append(\"1\")"
      ],
      "execution_count": 0,
      "outputs": []
    },
    {
      "cell_type": "markdown",
      "metadata": {
        "id": "MZ7qGEErv9S7",
        "colab_type": "text"
      },
      "source": [
        "##Notepad: take notes for your own reference.\n",
        "\n",
        "\n"
      ]
    },
    {
      "cell_type": "markdown",
      "metadata": {
        "id": "WwolDH4SIr37",
        "colab_type": "text"
      },
      "source": [
        "### Saves:\n",
        "\n",
        "I put save codes in here with a description so I know what they are.\n",
        "\n",
        "### Contexts:\n",
        "\n",
        "I write contexts here, or at least the last one I used (for continuing stories in new games).\n",
        "\n",
        "On a separate line I write what prompt I'm going to use for that context.\n",
        "\n",
        "### Ideas:"
      ]
    },
    {
      "cell_type": "markdown",
      "metadata": {
        "id": "ajYetCVZbLHL",
        "colab_type": "text"
      },
      "source": [
        "# Evren's Long-Term Story Guide\n",
        "---\n",
        "This is all optional but it details a fun way I've found to play.\n"
      ]
    },
    {
      "cell_type": "markdown",
      "metadata": {
        "id": "0bJbiV2WbQwC",
        "colab_type": "text"
      },
      "source": [
        "So... I found a pretty cool way to play AI Dungeon long-term. This fork has some pretty nice mods. Read through the game's menus and instructions closely to make sure you don't miss anything.\n",
        "\n",
        "The best part for me has been the separate entries for context and prompt. It's also been very stable, so I haven't had to worry about crashes.\n",
        "\n",
        "You can read my summarized story so far here: https://pastebin.com/yWgnYnDE <br>\n",
        "And the follow-up to the present here: https://pastebin.com/zVG7HqPD\n",
        "\n",
        "These steps are optional, of course. If you are willing to put in a bit of effort, AI Dungeon 2 can change from a quirky little toy to a collaborative storytelling experience with an AI. Hopefully the project continues to develop and naturally become such an experience. Until then...\n",
        "\n",
        "+ **Come up with a good context.** This should describe your character and the world you want to play in. Some themes work better than others: generic (Tolkien) fantasy works great, describing a relatively obscure type of world such as Minecraft less so (I've tried). Don't be afraid to experiment and try describing things the way you want them. You may be surprised at how well the AI picks up on it.\n",
        "  + The AI will always remember this context, and in many cases that means associations you make will stick. For example, I told it \"your advisers are Lord Aethelwulf and Lord Juss\" and in the story said \"ask your advisers about this\" and the AI referred to them both by name and gave me their responses.\n",
        "    + It also seems to recognize family/relationships pretty well, although names are a persistent issue (easily fixed with /alter as needed). Don't be afraid to correct cases of mistaken identity with the tools you have available.\n",
        "  + There is debate on whether shorter or longer contexts are better. Here's my take:\n",
        "    + Longer contexts give the AI more to work with, making it less likely to make stuff up and more likely to follow your guidelines. Mine are longer because I describe the important people, places and events, and I've found the AI will often sprinkle these details in appropriately on its own or when I mention related topics.\n",
        "    + Shorter contexts give the AI less to start with, which means it is likely to come up with new ideas you may not expect. This can be fun too, especially if you're not sure or don't care what kind of adventure you have.\n",
        "+ **The prompt that the game asks you for next is temporary.** It will not be remembered after some number of turns (10-20?). Its purpose is to kickstart the story. Enter the immediate situation your character is in. The AI is likely to add to this after you submit it, so be aware of that. I do believe it will add to it whether or not you end with a period. Going without a period allows you to direct the AI into doing something specific.\n",
        "  + Example: \"You step outside your house and see \" will cause the AI to fill in what you see when you step outside your house. It may then add more detail/actions/dialogue afterward.\n",
        "+ **If you or the AI comes up with a cool plot point you want to be kept, use the /remember command.** This will commit whatever you write after /remember to the same permanent memory that holds the context. This really helps the AI continue along the threads it starts down.\n",
        "  + Examples may include new goals your character has, important personality traits or motives you learn about other characters, or new abilities/items you want to have permanently.\n",
        "  + This memory is only kept per save/session. If you start a new game or don't save your game, the game will no longer remember these once you start again. If you want it to retain the information over new games, add these details to your new context.\n",
        "+ **Recognize good stopping points.** If you want to try playing the same story long-term (like I do), this is important. \n",
        "  + When you come to a good stopping point, /save and copy the save code somewhere. I like to write a summary of the session or important events so I remember. \n",
        "  + Take a moment to revise your context. Add in any important details the AI should keep track of, such as anything you used a /remember command for. New pieces of equipment, new abilities, new relationships, new areas, new world events. It's probably a good idea to prune older concepts in these categories after a restart or two so that you keep the context to a reasonable length.\n",
        "  + Then, start a new game by typing /restart. Enter your new context. Come up with a new prompt that sets the stage for the next scene you want to play. (Apparently, the latest version of this fork has commands to edit the context while playing. Even if they work, I still think it's a good idea to restart occasionally to lessen the chance of crashes/loops.)\n",
        "  + Good stopping points include:\n",
        "    + A natural break in the story, such as a time skip. If you want the scene to change entirely, it's probably easiest to do so by making a save and writing a new context/prompt.\n",
        "    + A major goal in your context is met. If the driving force behind your character or story has changed, it's a good idea to /save and restart with a new context that includes the new goals. This way the AI doesn't randomly decide that the dragon you were sent to slay is still alive and you need to kill it again.\n",
        "    + You need to take an extended break. As you may know, leaving the browser tab alone for a while can cause it to disconnect. If you know you're walking away, at the very least you should /save so you can load up the state of the game you were on.\n",
        "    + The AI is breaking down. If you get stuck in a loop of some kind, try /revert until you get to a part you'd like to continue from and do a /save and restart with a new context. Dialogue loops, literal repeating content, complete gibberish, etc.\n",
        "+ **If the AI does something stupid**, such as making you speak out of turn or do something out of character (or an NPC who you feel has an established personality already), you have several options. \n",
        "  + Use the /revert command to undo and try a new command. This is the best option if you feel like something you typed was in error or you have a better idea to try.\n",
        "  + Use the /retry command if you like what you typed but don't like the response. This will usually come up with a new response altogether and will replace the old response (so you will lose it forever unless you manually /alter it into place).\n",
        "  + Use the /alter command to correct it. This completely replaces the previous response with whatever you type. Send /alter by itself first, then fill in your version of events as your next command. I recommend copying the original response first if you only plan to change a couple of things.\n",
        "    + This is useful for simply removing erroneous things, like if it threw in some nonsensical dialogue at the end of a response. The AI will act as if that never happened if you copy the original response, remove something, then paste it in after the /alter command.\n",
        "\n",
        "Good luck and have fun! Tag me in the Discord server #stories channel if you have something interesting to share after using my play style, or if you have questions about it. I'm Evren#1025. NSFW stories are okay too, in the appropriate channel."
      ]
    }
  ]
}